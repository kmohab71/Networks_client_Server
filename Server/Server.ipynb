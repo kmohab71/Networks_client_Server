{
 "cells": [
  {
   "cell_type": "code",
   "execution_count": 1,
   "metadata": {},
   "outputs": [],
   "source": [
    "from socket import *\n",
    "import os\n",
    "from pathlib import Path\n",
    "import socket \n",
    "from _thread import *\n",
    "import threading "
   ]
  },
  {
   "cell_type": "code",
   "execution_count": null,
   "metadata": {
    "scrolled": false
   },
   "outputs": [
    {
     "name": "stdout",
     "output_type": "stream",
     "text": [
      "socket binded to post 12345\n",
      "socket is listening\n",
      "socket binded to post 12345\n",
      "Connected to : 127.0.0.1 : 37753\n",
      "message : POST hola.txt 12345\n",
      "this message : POST hola.txt 12345\n",
      "socket binded to post 12345\n",
      "Connected to : 127.0.0.1 : 37756\n",
      "message : POST hola.txt 12345\n",
      "this message : POST hola.txt 12345\n",
      "GET abc.txt 12345\n"
     ]
    }
   ],
   "source": [
    "my_lock=threading.Lock()\n",
    "# thread fuction \n",
    "def threaded(c,message):\n",
    "    print('this message : '+message)\n",
    "    while True: \n",
    "        typeOfRequest = message.split()[0]\n",
    "        filename = message.split()[1]\n",
    "        sendingport=message.split()[2]\n",
    "        if typeOfRequest == 'GET':\n",
    "            print ('File name is: ', filename)\n",
    "            my_file = Path(filename)\n",
    "            if my_file.is_file(): \n",
    "                with open(filename, 'r') as f:\n",
    "                    outputdata = f.read()\n",
    "                    c.send(\"HTTP/1.1 200 OK\\r\\n\".encode())\n",
    "                    for i in range(0, len(outputdata)):\n",
    "                        print(outputdata[i])\n",
    "                        c.send(outputdata[i].encode())\n",
    "                    c.send(\"\\r\\n\".encode())   \n",
    "                    c.send(\"\\r\\n\".encode()) \n",
    "                break\n",
    "            else:\n",
    "                c.send((\"HTTP/1.1 404 file not Found\\r\\n\\r\\n\").encode())\n",
    "                break\n",
    "        elif typeOfRequest == 'POST':\n",
    "            message =c.recv(1024).decode() \n",
    "            if message !=\"HTTP/1.1 404 file not Found\\r\\n\\r\\n\":\n",
    "                with open(filename, 'w+') as f:\n",
    "                    while message != \"\\r\\n\":\n",
    "                        message =c.recv(1024).decode()\n",
    "                        print(message)\n",
    "                        f.write(message)\n",
    "                ###break\n",
    "            else:\n",
    "                print(message)\n",
    "                break\n",
    "        else:\n",
    "            c.send((\"HTTP/1.1 400 Bad Request\\r\\n\\r\\n\").encode())\n",
    "            my_lock.release()\n",
    "            #c.close()\n",
    "            #break\n",
    "        #c.close()\n",
    "    c.close() \n",
    "\n",
    "\n",
    "def Main(): \n",
    "    host = \"\" \n",
    "    port = 12345\n",
    "    #s = socket.socket(socket.AF_INET, socket.SOCK_STREAM) \n",
    "    #s.bind((host, port)) \n",
    "    #print(\"socket binded to post\", port) \n",
    "    #s.listen(5) \n",
    "    #print(\"socket is listening\") \n",
    "    s = socket.socket(socket.AF_INET, socket.SOCK_STREAM) \n",
    "    s.bind((host, port)) \n",
    "    print(\"socket binded to post\", port) \n",
    "    s.listen(5) \n",
    "    print(\"socket is listening\") \n",
    "    while True: \n",
    "        c, addr = s.accept() \n",
    "        print(\"socket binded to post\", port) \n",
    "        # lock acquired by client \n",
    "        my_lock.acquire() \n",
    "        message = c.recv(1024).decode()\n",
    "        print('Connected to :', addr[0], ':', addr[1]) \n",
    "        print('message : '+message)\n",
    "        my_lock.release()\n",
    "        start_new_thread(threaded, (c,message)) \n",
    "        #my_lock.release()\n",
    "        #c.send('200 OK'.encode('ascii'))\n",
    "    s.close() \n",
    "\n",
    "\n",
    "if __name__ == '__main__': \n",
    "    Main() \n",
    "\n"
   ]
  },
  {
   "cell_type": "code",
   "execution_count": null,
   "metadata": {},
   "outputs": [],
   "source": [
    "import psutil\n",
    "from psutil import process_iter\n",
    "from signal import SIGTERM # or SIGKILL\n",
    "\n",
    "for proc in process_iter():\n",
    "    try:\n",
    "        for conns in proc.connections(kind='inet'):\n",
    "            if conns.laddr.port == 12345:\n",
    "                    proc.send_signal(SIGTERM) # or SIGKILL\n",
    "    except (psutil.ZombieProcess, psutil.AccessDenied, psutil.NoSuchProcess):   \n",
    "        continue"
   ]
  },
  {
   "cell_type": "code",
   "execution_count": null,
   "metadata": {},
   "outputs": [],
   "source": []
  }
 ],
 "metadata": {
  "kernelspec": {
   "display_name": "Python 3",
   "language": "python",
   "name": "python3"
  },
  "language_info": {
   "codemirror_mode": {
    "name": "ipython",
    "version": 3
   },
   "file_extension": ".py",
   "mimetype": "text/x-python",
   "name": "python",
   "nbconvert_exporter": "python",
   "pygments_lexer": "ipython3",
   "version": "3.7.3"
  }
 },
 "nbformat": 4,
 "nbformat_minor": 2
}
