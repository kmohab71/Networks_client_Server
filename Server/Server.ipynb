{
 "cells": [
  {
   "cell_type": "code",
   "execution_count": 1,
   "metadata": {},
   "outputs": [],
   "source": [
    "from socket import *\n",
    "import os\n",
    "from pathlib import Path"
   ]
  },
  {
   "cell_type": "code",
   "execution_count": null,
   "metadata": {},
   "outputs": [
    {
     "name": "stdout",
     "output_type": "stream",
     "text": [
      "socket binded to post 12345\n",
      "socket is listening\n"
     ]
    }
   ],
   "source": [
    "# import socket programming library \n",
    "import socket \n",
    "\n",
    "# import thread module \n",
    "from _thread import *\n",
    "import threading \n",
    "\n",
    "print_lock = threading.Lock() \n",
    "\n",
    "# thread fuction \n",
    "def threaded(c,message): \n",
    "    while True: \n",
    "        typeOfRequest = message.split()[0]\n",
    "        filename = message.split()[1]\n",
    "        sendingport=message.split()[2]\n",
    "        if typeOfRequest == 'GET':\n",
    "            print ('File name is: ', filename)\n",
    "            my_file = Path(filename)\n",
    "            if my_file.is_file():\n",
    "                f = open(filename)\n",
    "                outputdata = f.read()\n",
    "                c.send(\"HTTP/1.1 200 OK\\r\\n\\r\\n\".encode())\n",
    "                for i in range(0, len(outputdata)):  \n",
    "                    c.send(outputdata[i].encode())\n",
    "                c.send(\"\\r\\n\".encode())\n",
    "            elif typeOfRequest == 'POST':\n",
    "                f = open(filename, \"x\")\n",
    "                while message != '/r/n':\n",
    "                    message =client.recv(1024).decode()\n",
    "                    f.write(message)\n",
    "                    #message =client.recv(1024).decode()\n",
    "            c.close()\n",
    "        else:\n",
    "            c.send((\"HTTP/1.1 400 Bad Request ETLAM!!\\r\\n\\r\\n\").encode())\n",
    "\n",
    "#        # data received from client \n",
    "#         data = c.recv(1024) \n",
    "#         if not data: \n",
    "#             print('Bye') \n",
    "\n",
    "#             # lock released on exit \n",
    "#             print_lock.release() \n",
    "#             break\n",
    "\n",
    "#         # reverse the given string from client \n",
    "#         data = data[::-1] \n",
    "\n",
    "#         # send back reversed string to client \n",
    "#         c.send(data) \n",
    "#         c.send('200 OK'.encode('ascii'))\n",
    "    # connection closed \n",
    "    c.close() \n",
    "\n",
    "\n",
    "def Main(): \n",
    "    host = \"\" \n",
    "\n",
    "    # reverse a port on your computer \n",
    "    # in our case it is 12345 but it \n",
    "    # can be anything \n",
    "    port = 12345\n",
    "    s = socket.socket(socket.AF_INET, socket.SOCK_STREAM) \n",
    "    s.bind((host, port)) \n",
    "    print(\"socket binded to post\", port) \n",
    "\n",
    "    # put the socket into listening mode \n",
    "    s.listen(5) \n",
    "    print(\"socket is listening\") \n",
    "\n",
    "    # a forever loop until client wants to exit \n",
    "    while True: \n",
    "\n",
    "        # establish connection with client \n",
    "        c, addr = s.accept() \n",
    "        print(addr[1])\n",
    "        #gg = socket.socket(socket.AF_INET, socket.SOCK_STREAM) \n",
    "        #gg.bind((addr[0], addr[1])) \n",
    "        print(\"socket binded to post\", port) \n",
    "\n",
    "\n",
    "        # lock acquired by client \n",
    "        print_lock.acquire() \n",
    "        message = c.recv(1024).decode()\n",
    "        print('Connected to :', addr[0], ':', addr[1]) \n",
    "        print('message : '+message)\n",
    "        start_new_thread(threaded, (c,message)) \n",
    "\n",
    "#         filename = message.split()[1]\n",
    "#         typeOfRequest = message.split()[0]\n",
    "#         sendingport=message.split()[2]\n",
    "#         if typeOfRequest == 'GET':\n",
    "#             print ('File name is: ', filename)\n",
    "#             f = open(filename[0:])\n",
    "#             outputdata = f.read()\n",
    "#             c.send(\"HTTP/1.1 200 OK\\r\\n\\r\\n\".encode())\n",
    "#             for i in range(0, len(outputdata)):  \n",
    "#                 c.send(outputdata[i].encode())\n",
    "#             c.send(\"\\r\\n\".encode())\n",
    "#             c.close()\n",
    "#         elif typeOfRequest == 'POST':\n",
    "#             f = open(filename, \"x\")\n",
    "#             while message != '/r/n':\n",
    "#                 message =client.recv(1024).decode()\n",
    "#                 f.write(message)\n",
    "#                 #message =client.recv(1024).decode()\n",
    "\n",
    "#         else:\n",
    "#             c.send((\"HTTP/1.1 400 Bad Request ETLAM!!\\r\\n\\r\\n\").encode())\n",
    "# \n",
    "         \n",
    "        # Start a new thread and return its identifier \n",
    "        #start_new_thread(threaded, (c,))\n",
    "        c.send('200 OK'.encode('ascii'))\n",
    "    s.close() \n",
    "\n",
    "\n",
    "if __name__ == '__main__': \n",
    "    Main() \n",
    "\n"
   ]
  },
  {
   "cell_type": "code",
   "execution_count": 6,
   "metadata": {},
   "outputs": [
    {
     "name": "stdout",
     "output_type": "stream",
     "text": [
      "['Server.ipynb', '.ipynb_checkpoints']\n"
     ]
    }
   ],
   "source": [
    "print(os.listdir())"
   ]
  },
  {
   "cell_type": "code",
   "execution_count": 6,
   "metadata": {},
   "outputs": [],
   "source": [
    "import psutil\n",
    "from psutil import process_iter\n",
    "from signal import SIGTERM # or SIGKILL\n",
    "\n",
    "for proc in process_iter():\n",
    "    try:\n",
    "        for conns in proc.connections(kind='inet'):\n",
    "            if conns.laddr.port == 12345:\n",
    "                    proc.send_signal(SIGTERM) # or SIGKILL\n",
    "    except (psutil.ZombieProcess, psutil.AccessDenied, psutil.NoSuchProcess):   \n",
    "        continue"
   ]
  },
  {
   "cell_type": "code",
   "execution_count": null,
   "metadata": {},
   "outputs": [],
   "source": []
  }
 ],
 "metadata": {
  "kernelspec": {
   "display_name": "Python 3",
   "language": "python",
   "name": "python3"
  },
  "language_info": {
   "codemirror_mode": {
    "name": "ipython",
    "version": 3
   },
   "file_extension": ".py",
   "mimetype": "text/x-python",
   "name": "python",
   "nbconvert_exporter": "python",
   "pygments_lexer": "ipython3",
   "version": "3.7.1"
  }
 },
 "nbformat": 4,
 "nbformat_minor": 2
}
