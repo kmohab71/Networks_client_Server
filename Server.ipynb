{
 "cells": [
  {
   "cell_type": "code",
   "execution_count": 2,
   "metadata": {},
   "outputs": [],
   "source": [
    "from socket import *"
   ]
  },
  {
   "cell_type": "code",
   "execution_count": 42,
   "metadata": {},
   "outputs": [
    {
     "ename": "OSError",
     "evalue": "[Errno 48] Address already in use",
     "output_type": "error",
     "traceback": [
      "\u001b[0;31m---------------------------------------------------------------------------\u001b[0m",
      "\u001b[0;31mOSError\u001b[0m                                   Traceback (most recent call last)",
      "\u001b[0;32m<ipython-input-42-7a91c8b4b8c3>\u001b[0m in \u001b[0;36m<module>\u001b[0;34m\u001b[0m\n\u001b[1;32m      1\u001b[0m \u001b[0mserverPort\u001b[0m \u001b[0;34m=\u001b[0m \u001b[0;36m1991\u001b[0m\u001b[0;34m\u001b[0m\u001b[0;34m\u001b[0m\u001b[0m\n\u001b[1;32m      2\u001b[0m \u001b[0mconnectionSocket\u001b[0m \u001b[0;34m=\u001b[0m \u001b[0msocket\u001b[0m\u001b[0;34m(\u001b[0m\u001b[0mAF_INET\u001b[0m\u001b[0;34m,\u001b[0m\u001b[0mSOCK_STREAM\u001b[0m\u001b[0;34m)\u001b[0m\u001b[0;34m\u001b[0m\u001b[0;34m\u001b[0m\u001b[0m\n\u001b[0;32m----> 3\u001b[0;31m \u001b[0mconnectionSocket\u001b[0m\u001b[0;34m.\u001b[0m\u001b[0mbind\u001b[0m\u001b[0;34m(\u001b[0m\u001b[0;34m(\u001b[0m\u001b[0;34m''\u001b[0m\u001b[0;34m,\u001b[0m\u001b[0mserverPort\u001b[0m\u001b[0;34m)\u001b[0m\u001b[0;34m)\u001b[0m\u001b[0;34m\u001b[0m\u001b[0;34m\u001b[0m\u001b[0m\n\u001b[0m\u001b[1;32m      4\u001b[0m \u001b[0mconnectionSocket\u001b[0m\u001b[0;34m.\u001b[0m\u001b[0mlisten\u001b[0m\u001b[0;34m(\u001b[0m\u001b[0;36m1\u001b[0m\u001b[0;34m)\u001b[0m\u001b[0;34m\u001b[0m\u001b[0;34m\u001b[0m\u001b[0m\n\u001b[1;32m      5\u001b[0m \u001b[0mprint\u001b[0m\u001b[0;34m(\u001b[0m\u001b[0;34m'server is ready to recive'\u001b[0m\u001b[0;34m)\u001b[0m\u001b[0;34m\u001b[0m\u001b[0;34m\u001b[0m\u001b[0m\n",
      "\u001b[0;31mOSError\u001b[0m: [Errno 48] Address already in use"
     ]
    }
   ],
   "source": [
    "serverPort = 1991\n",
    "connectionSocket = socket(AF_INET,SOCK_STREAM)\n",
    "connectionSocket.bind(('',serverPort))\n",
    "connectionSocket.listen(1)\n",
    "print('server is ready to recive')"
   ]
  },
  {
   "cell_type": "code",
   "execution_count": 27,
   "metadata": {},
   "outputs": [],
   "source": []
  },
  {
   "cell_type": "code",
   "execution_count": 41,
   "metadata": {},
   "outputs": [
    {
     "name": "stdout",
     "output_type": "stream",
     "text": [
      "Message is:  bala7.txt\n",
      "\n"
     ]
    },
    {
     "ename": "OSError",
     "evalue": "[Errno 57] Socket is not connected",
     "output_type": "error",
     "traceback": [
      "\u001b[0;31m---------------------------------------------------------------------------\u001b[0m",
      "\u001b[0;31mOSError\u001b[0m                                   Traceback (most recent call last)",
      "\u001b[0;32m<ipython-input-41-de3354b1cf68>\u001b[0m in \u001b[0;36m<module>\u001b[0;34m\u001b[0m\n\u001b[1;32m     24\u001b[0m         \u001b[0;32melse\u001b[0m\u001b[0;34m:\u001b[0m\u001b[0;34m\u001b[0m\u001b[0;34m\u001b[0m\u001b[0m\n\u001b[0;32m---> 25\u001b[0;31m             \u001b[0mconnectionSocket\u001b[0m\u001b[0;34m.\u001b[0m\u001b[0msend\u001b[0m\u001b[0;34m(\u001b[0m\u001b[0;34m(\u001b[0m\u001b[0;34m\"HTTP/1.1 400 Bad Request ETLAM!!\\r\\n\\r\\n\"\u001b[0m\u001b[0;34m)\u001b[0m\u001b[0;34m.\u001b[0m\u001b[0mencode\u001b[0m\u001b[0;34m(\u001b[0m\u001b[0;34m)\u001b[0m\u001b[0;34m)\u001b[0m\u001b[0;34m\u001b[0m\u001b[0;34m\u001b[0m\u001b[0m\n\u001b[0m\u001b[1;32m     26\u001b[0m \u001b[0;34m\u001b[0m\u001b[0m\n",
      "\u001b[0;31mOSError\u001b[0m: [Errno 57] Socket is not connected",
      "\nDuring handling of the above exception, another exception occurred:\n",
      "\u001b[0;31mOSError\u001b[0m                                   Traceback (most recent call last)",
      "\u001b[0;32m<ipython-input-41-de3354b1cf68>\u001b[0m in \u001b[0;36m<module>\u001b[0;34m\u001b[0m\n\u001b[1;32m     35\u001b[0m     \u001b[0;32mexcept\u001b[0m \u001b[0mIOError\u001b[0m\u001b[0;34m:\u001b[0m\u001b[0;34m\u001b[0m\u001b[0;34m\u001b[0m\u001b[0m\n\u001b[1;32m     36\u001b[0m         \u001b[0;31m# Send HTTP response message for file not found\u001b[0m\u001b[0;34m\u001b[0m\u001b[0;34m\u001b[0m\u001b[0;34m\u001b[0m\u001b[0m\n\u001b[0;32m---> 37\u001b[0;31m         \u001b[0mconnectionSocket\u001b[0m\u001b[0;34m.\u001b[0m\u001b[0msend\u001b[0m\u001b[0;34m(\u001b[0m\u001b[0;34m(\u001b[0m\u001b[0;34m\"HTTP/1.1 404 Not Found\\r\\n\\r\\n\"\u001b[0m\u001b[0;34m)\u001b[0m\u001b[0;34m.\u001b[0m\u001b[0mencode\u001b[0m\u001b[0;34m(\u001b[0m\u001b[0;34m)\u001b[0m\u001b[0;34m)\u001b[0m\u001b[0;34m\u001b[0m\u001b[0;34m\u001b[0m\u001b[0m\n\u001b[0m\u001b[1;32m     38\u001b[0m         \u001b[0mconnectionSocket\u001b[0m\u001b[0;34m.\u001b[0m\u001b[0msend\u001b[0m\u001b[0;34m(\u001b[0m\u001b[0;34m(\u001b[0m\u001b[0;34m\"<html><head></head><body><h1>404 Not Found</h1></body></html>\\r\\n\"\u001b[0m\u001b[0;34m)\u001b[0m\u001b[0;34m.\u001b[0m\u001b[0mencode\u001b[0m\u001b[0;34m(\u001b[0m\u001b[0;34m)\u001b[0m\u001b[0;34m)\u001b[0m\u001b[0;34m\u001b[0m\u001b[0;34m\u001b[0m\u001b[0m\n\u001b[1;32m     39\u001b[0m         \u001b[0;31m# Close the client connection socket\u001b[0m\u001b[0;34m\u001b[0m\u001b[0;34m\u001b[0m\u001b[0;34m\u001b[0m\u001b[0m\n",
      "\u001b[0;31mOSError\u001b[0m: [Errno 57] Socket is not connected"
     ]
    }
   ],
   "source": [
    "while True:\n",
    "    client,info =connectionSocket.accept()\n",
    "    try:\n",
    "        message =  client.recv(1024).decode()\n",
    "        print ('Message is: ', message)\n",
    "        filename = message.split()[1]\n",
    "        typeOfRequest = message.split()[0]\n",
    "        sendingport=message.split()[3]\n",
    "        clientSocket = socket(AF_INET,SOCK_STREAM)\n",
    "        clientSocket.bind(('',sendingport))\n",
    "        if typeOfRequest == 'GET':\n",
    "            print ('File name is: ', filename)\n",
    "            f = open(filename[1:])\n",
    "            outputdata = f.read()\n",
    "            connectionSocket.send(\"HTTP/1.1 200 OK\\r\\n\\r\\n\")\n",
    "            for i in range(0, len(outputdata)):  \n",
    "                connectionSocket.send(outputdata[i])\n",
    "            connectionSocket.send(\"\\r\\n\")\n",
    "            connectionSocket.close()\n",
    "        elif typeOfRequest == 'POST':\n",
    "            f = open(filename, \"x\")\n",
    "            message =client.recv(1024)\n",
    "            while message != '/r/n':\n",
    "                f.write(message)\n",
    "                message =client.recv(1024)\n",
    "\n",
    "        else:\n",
    "            connectionSocket.send((\"HTTP/1.1 400 Bad Request ETLAM!!\\r\\n\\r\\n\").encode())\n",
    "\n",
    "        print ('File name is: ', filename)\n",
    "        f = open(filename[1:])\n",
    "        outputdata = f.read()\n",
    "        connectionSocket.send(\"HTTP/1.1 200 OK\\r\\n\\r\\n\")\n",
    "        for i in range(0, len(outputdata)):  \n",
    "            connectionSocket.send(outputdata[i])\n",
    "        connectionSocket.send(\"\\r\\n\")\n",
    "        connectionSocket.close()\n",
    "    except IOError:\n",
    "        # Send HTTP response message for file not found\n",
    "        clientSocket.send((\"HTTP/1.1 404 Not Found\\r\\n\\r\\n\").encode())\n",
    "        clientSocket.send((\"<html><head></head><body><h1>404 Not Found</h1></body></html>\\r\\n\").encode())\n",
    "        # Close the client connection socket\n",
    "        connectionSocket.close()\n",
    "\n",
    "serverSocket.close()  "
   ]
  },
  {
   "cell_type": "code",
   "execution_count": null,
   "metadata": {},
   "outputs": [
    {
     "name": "stdout",
     "output_type": "stream",
     "text": [
      "socket binded to post 12345\n",
      "socket is listening\n",
      "63538\n",
      "socket binded to post 12345\n",
      "Connected to : 127.0.0.1 : 63538\n",
      "messageshaurya says geeksforgeeks\n"
     ]
    }
   ],
   "source": [
    "# import socket programming library \n",
    "import socket \n",
    "\n",
    "# import thread module \n",
    "from _thread import *\n",
    "import threading \n",
    "\n",
    "print_lock = threading.Lock() \n",
    "\n",
    "# thread fuction \n",
    "def threaded(c): \n",
    "    while True: \n",
    "\n",
    "        # data received from client \n",
    "        data = c.recv(1024) \n",
    "        if not data: \n",
    "            print('Bye') \n",
    "\n",
    "            # lock released on exit \n",
    "            print_lock.release() \n",
    "            break\n",
    "\n",
    "        # reverse the given string from client \n",
    "        data = data[::-1] \n",
    "\n",
    "        # send back reversed string to client \n",
    "        c.send(data) \n",
    "\n",
    "    # connection closed \n",
    "    c.close() \n",
    "\n",
    "\n",
    "def Main(): \n",
    "    host = \"\" \n",
    "\n",
    "    # reverse a port on your computer \n",
    "    # in our case it is 12345 but it \n",
    "    # can be anything \n",
    "    port = 12345\n",
    "    s = socket.socket(socket.AF_INET, socket.SOCK_STREAM) \n",
    "    s.bind((host, port)) \n",
    "    print(\"socket binded to post\", port) \n",
    "\n",
    "    # put the socket into listening mode \n",
    "    s.listen(5) \n",
    "    print(\"socket is listening\") \n",
    "\n",
    "    # a forever loop until client wants to exit \n",
    "    while True: \n",
    "\n",
    "        # establish connection with client \n",
    "        c, addr = s.accept() \n",
    "        print(addr[1])\n",
    "        #gg = socket.socket(socket.AF_INET, socket.SOCK_STREAM) \n",
    "        #gg.bind((addr[0], addr[1])) \n",
    "        print(\"socket binded to post\", port) \n",
    "\n",
    "\n",
    "        # lock acquired by client \n",
    "        print_lock.acquire() \n",
    "        print('Connected to :', addr[0], ':', addr[1]) \n",
    "        print('message'+c.recv(1024).decode()) \n",
    "        # Start a new thread and return its identifier \n",
    "        start_new_thread(threaded, (c,))\n",
    "        c.send('200 OK'.encode('ascii'))\n",
    "    s.close() \n",
    "\n",
    "\n",
    "if __name__ == '__main__': \n",
    "    Main() \n",
    "\n"
   ]
  },
  {
   "cell_type": "code",
   "execution_count": null,
   "metadata": {},
   "outputs": [],
   "source": []
  },
  {
   "cell_type": "code",
   "execution_count": null,
   "metadata": {},
   "outputs": [],
   "source": []
  }
 ],
 "metadata": {
  "kernelspec": {
   "display_name": "Python 3",
   "language": "python",
   "name": "python3"
  },
  "language_info": {
   "codemirror_mode": {
    "name": "ipython",
    "version": 3
   },
   "file_extension": ".py",
   "mimetype": "text/x-python",
   "name": "python",
   "nbconvert_exporter": "python",
   "pygments_lexer": "ipython3",
   "version": "3.7.1"
  }
 },
 "nbformat": 4,
 "nbformat_minor": 2
}
