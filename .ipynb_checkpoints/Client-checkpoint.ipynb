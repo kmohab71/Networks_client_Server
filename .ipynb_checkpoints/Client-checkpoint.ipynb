{
 "cells": [
  {
   "cell_type": "code",
   "execution_count": 21,
   "metadata": {},
   "outputs": [
    {
     "name": "stdout",
     "output_type": "stream",
     "text": [
      "client is ready to recive\n"
     ]
    }
   ],
   "source": [
    "from socket import * #import the socket module\n",
    "import time # for RTT\n",
    "import sys  # forcommandline functions\n",
    "import datetime\n",
    "\n",
    "ClientPort = 19986\n",
    "connectionSocket = socket(AF_INET,SOCK_STREAM)\n",
    "connectionSocket.bind(('',ClientPort))\n",
    "connectionSocket.listen(1)\n",
    "print('client is ready to recive')"
   ]
  },
  {
   "cell_type": "code",
   "execution_count": 23,
   "metadata": {},
   "outputs": [
    {
     "ename": "OSError",
     "evalue": "[Errno 56] Socket is already connected",
     "output_type": "error",
     "traceback": [
      "\u001b[0;31m---------------------------------------------------------------------------\u001b[0m",
      "\u001b[0;31mOSError\u001b[0m                                   Traceback (most recent call last)",
      "\u001b[0;32m<ipython-input-23-14fd52303bed>\u001b[0m in \u001b[0;36m<module>\u001b[0;34m\u001b[0m\n\u001b[1;32m     17\u001b[0m \u001b[0mendtime\u001b[0m\u001b[0;34m=\u001b[0m\u001b[0;36m0\u001b[0m \u001b[0;31m# initialize to 0\u001b[0m\u001b[0;34m\u001b[0m\u001b[0;34m\u001b[0m\u001b[0m\n\u001b[1;32m     18\u001b[0m \u001b[0;31m#getaddrinfo(host, port, family=0, type=0, proto=0, flags=0)\u001b[0m\u001b[0;34m\u001b[0m\u001b[0;34m\u001b[0m\u001b[0;34m\u001b[0m\u001b[0m\n\u001b[0;32m---> 19\u001b[0;31m \u001b[0mClientSocket\u001b[0m\u001b[0;34m.\u001b[0m\u001b[0mconnect\u001b[0m\u001b[0;34m(\u001b[0m\u001b[0;34m(\u001b[0m\u001b[0;34m''\u001b[0m\u001b[0;34m,\u001b[0m\u001b[0mServerPort\u001b[0m\u001b[0;34m)\u001b[0m\u001b[0;34m)\u001b[0m \u001b[0;31m# connect to the Server ip with portno\u001b[0m\u001b[0;34m\u001b[0m\u001b[0;34m\u001b[0m\u001b[0m\n\u001b[0m\u001b[1;32m     20\u001b[0m \u001b[0;34m\u001b[0m\u001b[0m\n\u001b[1;32m     21\u001b[0m \u001b[0moutput\u001b[0m\u001b[0;34m=\u001b[0m\u001b[0;34m\"\"\u001b[0m \u001b[0;31m#initialize the o/p to be written as null\u001b[0m\u001b[0;34m\u001b[0m\u001b[0;34m\u001b[0m\u001b[0m\n",
      "\u001b[0;31mOSError\u001b[0m: [Errno 56] Socket is already connected"
     ]
    }
   ],
   "source": [
    "##------------------------Program starts--------------------------------------------\n",
    "\n",
    "#ClientSocket= socket(AF_INET, SOCK_STREAM) # IPV4 address, TCP stream\n",
    "#print \"The no of Args is:\",len(sys.argv) #for debugging\n",
    "if (len(sys.argv)==4): # if port no is provided\n",
    "    IPaddress=str(sys.argv[1])\n",
    "    Portno=int(sys.argv[2])\n",
    "    filename=str(sys.argv[3])\n",
    "if (len(sys.argv)==3):# if port no is not provided default it to 8080\n",
    "    IPaddress=str(sys.argv[1])\n",
    "    Portno=1991\n",
    "    filename=str(sys.argv[2])\n",
    "ServerPort=Portno\n",
    "endtime=0 # initialize to 0\n",
    "#getaddrinfo(host, port, family=0, type=0, proto=0, flags=0)\n",
    "ClientSocket.connect(('',ServerPort)) # connect to the Server ip with portno\n",
    "\n",
    "output=\"\" #initialize the o/p to be written as null\n",
    "url_params=(IPaddress+str(ServerPort),('/'+filename))\n",
    "url=\" \".join(url_params)# form the URL similar to a browser request\n",
    "#print \"The URL is:\", url # for debugging\n",
    "starttime=time.time() # Start time for RTT\n",
    "ClientSocket.send(('GET '+'bala7.txt'+'Client'+connectionSocket+\"\\n\").encode()) # send the Url similar to the browser to the Server\n",
    "print(\"Request sent to Server:\", url)\n",
    "while True:\n",
    "    response=ClientSocket.recv(1024) # receive the response from the server\n",
    "    if (endtime==0): # capture time for the 1st response\n",
    "        endtime=time.time()# end time for RTT\n",
    "    if response==\"\":break # end of response\n",
    "    sys.stdout.write(response) # write the response on console\n",
    "RTT=endtime-starttime #RTT calculation\n",
    "print (\"RTT is\", RTT ,\"Seconds\")\n",
    "ClientSocket.close   # close socket"
   ]
  },
  {
   "cell_type": "code",
   "execution_count": null,
   "metadata": {},
   "outputs": [
    {
     "name": "stdout",
     "output_type": "stream",
     "text": [
      "\n",
      "file name :bal7.txt\n",
      "\n",
      "request type:POST\n"
     ]
    }
   ],
   "source": [
    "# Import socket module \n",
    "import socket \n",
    "\n",
    "\n",
    "def Main(): \n",
    "    # local host IP '127.0.0.1' \n",
    "    host = '127.0.0.1'\n",
    "\n",
    "    # Define the port on which you want to connect \n",
    "    port = 12345\n",
    "\n",
    "    s = socket.socket(socket.AF_INET,socket.SOCK_STREAM) \n",
    "\n",
    "    # connect to server on local computer \n",
    "    s.connect((host,port)) \n",
    "\n",
    "    # message you send to server \n",
    "    while True: \n",
    "        message = input('\\nfile name :') \n",
    "        request_type=input('\\nrequest type:') \n",
    "        # message sent to server \n",
    "        s.send((request_type+\" \"+message+\" \"+str(port)).encode('ascii')) \n",
    "\n",
    "        # messaga received from server \n",
    "        data = s.recv(1024) \n",
    "\n",
    "        # print the received message \n",
    "        # here it would be a reverse of sent message \n",
    "        print('Received from the server :',str(data.decode('ascii'))) \n",
    "\n",
    "        # ask the client whether he wants to continue \n",
    "        ans = input('\\nDo you want to continue(y/n) :') \n",
    "        if ans == 'y': \n",
    "            continue\n",
    "        else: \n",
    "            break\n",
    "    # close the connection \n",
    "    s.close() \n",
    "\n",
    "if __name__ == '__main__': \n",
    "    Main() \n",
    "\n"
   ]
  },
  {
   "cell_type": "code",
   "execution_count": null,
   "metadata": {},
   "outputs": [],
   "source": []
  }
 ],
 "metadata": {
  "kernelspec": {
   "display_name": "Python 3",
   "language": "python",
   "name": "python3"
  },
  "language_info": {
   "codemirror_mode": {
    "name": "ipython",
    "version": 3
   },
   "file_extension": ".py",
   "mimetype": "text/x-python",
   "name": "python",
   "nbconvert_exporter": "python",
   "pygments_lexer": "ipython3",
   "version": "3.7.1"
  }
 },
 "nbformat": 4,
 "nbformat_minor": 2
}
