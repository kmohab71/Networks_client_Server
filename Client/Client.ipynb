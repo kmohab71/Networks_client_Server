{
 "cells": [
  {
   "cell_type": "code",
   "execution_count": 1,
   "metadata": {},
   "outputs": [],
   "source": [
    "from socket import * #import the socket module\n",
    "import time # for RTT\n",
    "import sys  # forcommandline functions\n",
    "import datetime\n",
    "from pathlib import Path"
   ]
  },
  {
   "cell_type": "code",
   "execution_count": 2,
   "metadata": {
    "scrolled": false
   },
   "outputs": [
    {
     "name": "stdout",
     "output_type": "stream",
     "text": [
      "\n",
      "file name :hola.txt\n",
      "\n",
      "request type:POST\n",
      "File name is:  hola.txt\n",
      "H\n",
      "O\n",
      "L\n",
      "A\n",
      " \n",
      "H\n",
      "O\n",
      "L\n",
      "A\n",
      " \n",
      "H\n",
      "E\n",
      "R\n",
      "R\n",
      "R\n",
      "R\n",
      "R\n",
      "R\n",
      "R\n",
      "R\n",
      "R\n",
      "E\n",
      "\n",
      "Do you want to continue(y/n) :y\n",
      "\n",
      "file name :lala.txt\n",
      "\n",
      "request type:POST\n",
      "File name is:  lala.txt\n",
      "HTTP/1.1 404 file not Found\n",
      "\n",
      "\n"
     ]
    }
   ],
   "source": [
    "# Import socket module \n",
    "import socket \n",
    "\n",
    "\n",
    "def Main(): \n",
    "    # local host IP '127.0.0.1' \n",
    "    host = '127.0.0.1'\n",
    "\n",
    "    # Define the port on which you want to connect \n",
    "    port = 12345\n",
    "\n",
    "    s = socket.socket(socket.AF_INET,socket.SOCK_STREAM) \n",
    "\n",
    "    # connect to server on local computer \n",
    "    s.connect((host,port)) \n",
    "\n",
    "    # message you send to server \n",
    "    while True: \n",
    "        filename = input('\\nfile name :') \n",
    "        request_type=input('\\nrequest type:') \n",
    "        # message sent to server \n",
    "        s.send((request_type+\" \"+filename+\" \"+str(port)).encode('ascii')) \n",
    "        if request_type == 'GET':\n",
    "            message =s.recv(1024).decode()\n",
    "            if message !=\"HTTP/1.1 404 file not Found\\r\\n\\r\\n\":\n",
    "                with open(filename, 'w+') as f:\n",
    "                    while message != \"\\r\\n\":\n",
    "                        message =s.recv(1024).decode()\n",
    "                        f.write(message)\n",
    "            else:\n",
    "                print(message)\n",
    "                break\n",
    "        elif request_type == 'POST':\n",
    "            print ('File name is: ', filename)\n",
    "            my_file = Path(filename)\n",
    "            if my_file.is_file(): \n",
    "                with open(filename, 'r') as f:\n",
    "                    outputdata = f.read()\n",
    "                    s.send(\"HTTP/1.1 200 OK\\r\\n\\r\\n\".encode())\n",
    "                    for i in range(0, len(outputdata)):\n",
    "                        print(outputdata[i])\n",
    "                        s.send(outputdata[i].encode())\n",
    "                    s.send(\"\\r\\n\".encode())\n",
    "                    s.send(\"\\r\\n\".encode())\n",
    "            else:\n",
    "                s.send((\"HTTP/1.1 404 file not Found\\r\\n\\r\\n\").encode())\n",
    "                print(\"HTTP/1.1 404 file not Found\\r\\n\\r\\n\")\n",
    "                break\n",
    "        ans = input('\\nDo you want to continue(y/n) :') \n",
    "        if ans == 'y': \n",
    "            continue\n",
    "        else: \n",
    "            break\n",
    "    # close the connection \n",
    "    s.close() \n",
    "\n",
    "if __name__ == '__main__': \n",
    "    Main() \n",
    "\n"
   ]
  },
  {
   "cell_type": "code",
   "execution_count": null,
   "metadata": {},
   "outputs": [],
   "source": [
    "my_file = Path(\"bal7.txt\")\n",
    "if my_file.is_file():\n",
    "    print('yes')"
   ]
  },
  {
   "cell_type": "code",
   "execution_count": null,
   "metadata": {},
   "outputs": [],
   "source": []
  }
 ],
 "metadata": {
  "kernelspec": {
   "display_name": "Python 3",
   "language": "python",
   "name": "python3"
  },
  "language_info": {
   "codemirror_mode": {
    "name": "ipython",
    "version": 3
   },
   "file_extension": ".py",
   "mimetype": "text/x-python",
   "name": "python",
   "nbconvert_exporter": "python",
   "pygments_lexer": "ipython3",
   "version": "3.7.3"
  }
 },
 "nbformat": 4,
 "nbformat_minor": 2
}
