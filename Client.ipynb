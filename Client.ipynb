{
 "cells": [
  {
   "cell_type": "code",
   "execution_count": 1,
   "metadata": {},
   "outputs": [],
   "source": [
    "from socket import * #import the socket module\n",
    "import time # for RTT\n",
    "import sys  # forcommandline functions\n",
    "import datetime\n"
   ]
  },
  {
   "cell_type": "code",
   "execution_count": null,
   "metadata": {},
   "outputs": [
    {
     "name": "stdout",
     "output_type": "stream",
     "text": [
      "\n",
      "file name :bal7.txt\n",
      "\n",
      "request type:GET\n",
      "Received from the server : HTTP/1.1 200 OK\n",
      "\n",
      "\n"
     ]
    }
   ],
   "source": [
    "# Import socket module \n",
    "import socket \n",
    "\n",
    "\n",
    "def Main(): \n",
    "    # local host IP '127.0.0.1' \n",
    "    host = '127.0.0.1'\n",
    "\n",
    "    # Define the port on which you want to connect \n",
    "    port = 12345\n",
    "\n",
    "    s = socket.socket(socket.AF_INET,socket.SOCK_STREAM) \n",
    "\n",
    "    # connect to server on local computer \n",
    "    s.connect((host,port)) \n",
    "\n",
    "    # message you send to server \n",
    "    while True: \n",
    "        message = input('\\nfile name :') \n",
    "        request_type=input('\\nrequest type:') \n",
    "        # message sent to server \n",
    "        s.send((request_type+\" \"+message+\" \"+str(port)).encode('ascii')) \n",
    "\n",
    "        # messaga received from server \n",
    "        data = s.recv(1024) \n",
    "\n",
    "        # print the received message \n",
    "        # here it would be a reverse of sent message \n",
    "        print('Received from the server :',str(data.decode('ascii'))) \n",
    "\n",
    "        # ask the client whether he wants to continue \n",
    "        ans = input('\\nDo you want to continue(y/n) :') \n",
    "        if ans == 'y': \n",
    "            continue\n",
    "        else: \n",
    "            break\n",
    "    # close the connection \n",
    "    s.close() \n",
    "\n",
    "if __name__ == '__main__': \n",
    "    Main() \n",
    "\n"
   ]
  },
  {
   "cell_type": "code",
   "execution_count": null,
   "metadata": {},
   "outputs": [],
   "source": []
  }
 ],
 "metadata": {
  "kernelspec": {
   "display_name": "Python 3",
   "language": "python",
   "name": "python3"
  },
  "language_info": {
   "codemirror_mode": {
    "name": "ipython",
    "version": 3
   },
   "file_extension": ".py",
   "mimetype": "text/x-python",
   "name": "python",
   "nbconvert_exporter": "python",
   "pygments_lexer": "ipython3",
   "version": "3.7.1"
  }
 },
 "nbformat": 4,
 "nbformat_minor": 2
}
